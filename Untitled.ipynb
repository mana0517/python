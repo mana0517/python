{
  "nbformat": 4,
  "nbformat_minor": 0,
  "metadata": {
    "colab": {
      "name": "Untitled.ipynb",
      "provenance": []
    },
    "kernelspec": {
      "name": "python3",
      "display_name": "Python 3"
    },
    "language_info": {
      "name": "python"
    }
  },
  "cells": [
    {
      "cell_type": "code",
      "metadata": {
        "colab": {
          "base_uri": "https://localhost:8080/"
        },
        "id": "KwO_z9KNsGCU",
        "outputId": "ecc0607c-4f74-440d-dc44-489428b68de5"
      },
      "source": [
        "radius=float(input(\"enter radius of circle: \"))\n",
        "area=3.14159265*radius*radius\n",
        "print(\"area of the circle is \"+str(area))"
      ],
      "execution_count": null,
      "outputs": [
        {
          "output_type": "stream",
          "text": [
            "enter radius of circle: 1.1\n",
            "area of the circle is 3.801327106500001\n"
          ],
          "name": "stdout"
        }
      ]
    },
    {
      "cell_type": "code",
      "metadata": {
        "id": "FDrfiVIcscJ1",
        "colab": {
          "base_uri": "https://localhost:8080/"
        },
        "outputId": "c7a7cedf-e2cb-48c0-a71c-ae1b2effdce4"
      },
      "source": [
        "filename=input(\"Enter the filename: \")\n",
        "file_extension=filename.split(\".\")\n",
        "print(repr(file_extension[-1]))   \n",
        "my_dict={\"py\":\"python\"}\n",
        "print(\"The extension of file is \",my_dict[\"py\"])\n"
      ],
      "execution_count": 15,
      "outputs": [
        {
          "output_type": "stream",
          "text": [
            "Enter the filename: abc.py\n",
            "'py'\n",
            "The extension of file is  python\n"
          ],
          "name": "stdout"
        }
      ]
    }
  ]
}
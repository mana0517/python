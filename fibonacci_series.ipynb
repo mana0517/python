{
  "nbformat": 4,
  "nbformat_minor": 0,
  "metadata": {
    "colab": {
      "name": "fibonacci_series.ipynb",
      "provenance": []
    },
    "kernelspec": {
      "name": "python3",
      "display_name": "Python 3"
    }
  },
  "cells": [
    {
      "cell_type": "code",
      "metadata": {
        "id": "dWTkM_peggbZ",
        "colab": {
          "base_uri": "https://localhost:8080/"
        },
        "outputId": "ba2edd97-2484-4dae-edd2-a0f1f11152da"
      },
      "source": [
        "n=int(input(\"enter the number of elements: \"))\r\n",
        "a=0\r\n",
        "b=1\r\n",
        "print(a)\r\n",
        "print(b)\r\n",
        "\r\n",
        "for i in range(0,n-2):\r\n",
        "  c=a+b\r\n",
        "  a=b\r\n",
        "  b=c\r\n",
        "  print(c)"
      ],
      "execution_count": 2,
      "outputs": [
        {
          "output_type": "stream",
          "text": [
            "enter the number of elements: 13\n",
            "0\n",
            "1\n",
            "1\n",
            "2\n",
            "3\n",
            "5\n",
            "8\n",
            "13\n",
            "21\n",
            "34\n",
            "55\n",
            "89\n",
            "144\n"
          ],
          "name": "stdout"
        }
      ]
    }
  ]
}
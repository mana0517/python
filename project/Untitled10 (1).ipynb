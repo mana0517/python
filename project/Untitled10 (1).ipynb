{
  "nbformat": 4,
  "nbformat_minor": 0,
  "metadata": {
    "colab": {
      "name": "Untitled10.ipynb",
      "provenance": []
    },
    "kernelspec": {
      "name": "python3",
      "display_name": "Python 3"
    },
    "language_info": {
      "name": "python"
    }
  },
  "cells": [
    {
      "cell_type": "code",
      "metadata": {
        "colab": {
          "base_uri": "https://localhost:8080/"
        },
        "id": "AyUaV8qpcV3r",
        "outputId": "7423c9bc-9d9f-4070-9dc1-10174dd68720"
      },
      "source": [
        "import csv\n",
        "\n",
        "def write_info_csv(info_list):\n",
        "   with open(\"student_info.csv\",'a',newline='')as csv_file:\n",
        "     writer=csv.writer(csv_file)\n",
        "\n",
        "     if csv_file.tell()==0:\n",
        "        writer.writerow([\"Name\",\"Age\",\"Contact Number\",\"E-mail ID\"])\n",
        "\n",
        "     writer.writerow(info_list)\n",
        "\n",
        "if __name__=='__main__':     \n",
        "   condition=True\n",
        "   student_num=1\n",
        "   while(condition):\n",
        "      student_info=input(\"enter student information for student #{} in following format(name age contact_number E-mail_ID): \".format(student_num))\n",
        "      \n",
        "      #split\n",
        "      student_info_list=student_info.split(' ')\n",
        "\n",
        "      print(\"\\nthe entered information is -\\nName: {}\\nAge: {}\\nContact Number: {}\\nE-mail ID: {}\"\n",
        "              .format(student_info_list[0], student_info_list[1], student_info_list[2], student_info_list[3]))\n",
        "       \n",
        "      choice_check=input(\"is the entered information correct? (yes/no): \")\n",
        "\n",
        "      if choice_check==\"yes\":  \n",
        "         write_info_csv(student_info_list)\n",
        "\n",
        "         condition_check=input(\"enter (yes/no) if you want to enter information for another student: \")\n",
        "         if condition_check==\"yes\":\n",
        "           condition=True\n",
        "           student_num=student_num + 1\n",
        "         elif condition_check==\"no\":\n",
        "           condition=False  \n",
        "      else:\n",
        "        print(\"\\nplease re-enter the values!\")      "
      ],
      "execution_count": 2,
      "outputs": [
        {
          "output_type": "stream",
          "text": [
            "enter student information for student #1 in following format(name age contact_number E-mail_ID): rahul 21 898292 abc@xyz.com\n",
            "\n",
            "the entered information is -\n",
            "Name: rahul\n",
            "Age: 21\n",
            "Contact Number: 898292\n",
            "E-mail ID: abc@xyz.com\n",
            "is the entered information correct? (yes/no): yes\n",
            "enter (yes/no) if you want to enter information for another student: yes\n",
            "enter student information for student #2 in following format(name age contact_number E-mail_ID): raj 34 987654345 xyz@abc.com\n",
            "\n",
            "the entered information is -\n",
            "Name: raj\n",
            "Age: 34\n",
            "Contact Number: 987654345\n",
            "E-mail ID: xyz@abc.com\n",
            "is the entered information correct? (yes/no): yes\n",
            "enter (yes/no) if you want to enter information for another student: yes\n",
            "enter student information for student #3 in following format(name age contact_number E-mail_ID): mallika 23 8776486543 mallika@yahoo.com\n",
            "\n",
            "the entered information is -\n",
            "Name: mallika\n",
            "Age: 23\n",
            "Contact Number: 8776486543\n",
            "E-mail ID: mallika@yahoo.com\n",
            "is the entered information correct? (yes/no): yes\n",
            "enter (yes/no) if you want to enter information for another student: yes\n",
            "enter student information for student #4 in following format(name age contact_number E-mail_ID): mohan 35 8775647869 abc@gmail.com\n",
            "\n",
            "the entered information is -\n",
            "Name: mohan\n",
            "Age: 35\n",
            "Contact Number: 8775647869\n",
            "E-mail ID: abc@gmail.com\n",
            "is the entered information correct? (yes/no): yes\n",
            "enter (yes/no) if you want to enter information for another student: no\n"
          ],
          "name": "stdout"
        }
      ]
    }
  ]
}
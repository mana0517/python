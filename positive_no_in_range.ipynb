{
  "nbformat": 4,
  "nbformat_minor": 0,
  "metadata": {
    "colab": {
      "name": "positive_no_in_range.ipynb",
      "provenance": []
    },
    "kernelspec": {
      "name": "python3",
      "display_name": "Python 3"
    }
  },
  "cells": [
    {
      "cell_type": "code",
      "metadata": {
        "colab": {
          "base_uri": "https://localhost:8080/"
        },
        "id": "3oVcY-46nei5",
        "outputId": "5e1e2b31-e970-4cf8-e970-f5f38977ea31"
      },
      "source": [
        "list1=[12,-7,5,64,-14]\r\n",
        "for i in list1:\r\n",
        "  if(i>0):\r\n",
        "    print(i,end=\"\\t\")\r\n",
        "  \r\n",
        "      "
      ],
      "execution_count": 7,
      "outputs": [
        {
          "output_type": "stream",
          "text": [
            "12\t5\t64\t"
          ],
          "name": "stdout"
        }
      ]
    },
    {
      "cell_type": "code",
      "metadata": {
        "colab": {
          "base_uri": "https://localhost:8080/"
        },
        "id": "_pgcKZEzpvs9",
        "outputId": "94567a32-8a57-4a74-8f7e-b43d01c2b76a"
      },
      "source": [
        "list2=[12,14,-95,3]\r\n",
        "for i in list2:\r\n",
        "  if(i>0):\r\n",
        "    print(i,end=\"\\t\")"
      ],
      "execution_count": 8,
      "outputs": [
        {
          "output_type": "stream",
          "text": [
            "12\t14\t3\t"
          ],
          "name": "stdout"
        }
      ]
    }
  ]
}